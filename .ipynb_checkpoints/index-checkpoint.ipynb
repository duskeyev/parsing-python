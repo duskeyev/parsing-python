{
 "cells": [
  {
   "cell_type": "code",
   "execution_count": 39,
   "id": "48e85202-89fd-4456-b54b-42a89ce7da29",
   "metadata": {},
   "outputs": [
    {
     "ename": "ElementNotInteractableException",
     "evalue": "Message: element not interactable\n  (Session info: chrome=122.0.6261.129)\nStacktrace:\n\tGetHandleVerifier [0x00007FF6911BAD02+56930]\n\t(No symbol) [0x00007FF69112F602]\n\t(No symbol) [0x00007FF690FE419D]\n\t(No symbol) [0x00007FF69102ACA2]\n\t(No symbol) [0x00007FF69101F798]\n\t(No symbol) [0x00007FF69104BC9A]\n\t(No symbol) [0x00007FF69101F09A]\n\t(No symbol) [0x00007FF69104BEB0]\n\t(No symbol) [0x00007FF6910681E2]\n\t(No symbol) [0x00007FF69104BA43]\n\t(No symbol) [0x00007FF69101D438]\n\t(No symbol) [0x00007FF69101E4D1]\n\tGetHandleVerifier [0x00007FF691536F8D+3711213]\n\tGetHandleVerifier [0x00007FF6915904CD+4077101]\n\tGetHandleVerifier [0x00007FF69158865F+4044735]\n\tGetHandleVerifier [0x00007FF691259736+706710]\n\t(No symbol) [0x00007FF69113B8DF]\n\t(No symbol) [0x00007FF691136AC4]\n\t(No symbol) [0x00007FF691136C1C]\n\t(No symbol) [0x00007FF6911268D4]\n\tBaseThreadInitThunk [0x00007FF9CA4A7034+20]\n\tRtlUserThreadStart [0x00007FF9CBAC2651+33]\n",
     "output_type": "error",
     "traceback": [
      "\u001b[1;31m---------------------------------------------------------------------------\u001b[0m",
      "\u001b[1;31mElementNotInteractableException\u001b[0m           Traceback (most recent call last)",
      "Cell \u001b[1;32mIn[39], line 27\u001b[0m\n\u001b[0;32m     24\u001b[0m ActionChains(driver)\u001b[38;5;241m.\u001b[39mmove_to_element(market_data)\u001b[38;5;241m.\u001b[39mperform()\n\u001b[0;32m     26\u001b[0m pre_open_market \u001b[38;5;241m=\u001b[39m driver\u001b[38;5;241m.\u001b[39mfind_element(\u001b[38;5;124m'\u001b[39m\u001b[38;5;124mxpath\u001b[39m\u001b[38;5;124m'\u001b[39m,\u001b[38;5;124m'\u001b[39m\u001b[38;5;124m//*[@id=\u001b[39m\u001b[38;5;124m\"\u001b[39m\u001b[38;5;124mmain_navbar\u001b[39m\u001b[38;5;124m\"\u001b[39m\u001b[38;5;124m]/ul/li[3]/div/div[1]/div/div[1]/ul/li[1]/a\u001b[39m\u001b[38;5;124m'\u001b[39m)\n\u001b[1;32m---> 27\u001b[0m \u001b[43mpre_open_market\u001b[49m\u001b[38;5;241;43m.\u001b[39;49m\u001b[43mclick\u001b[49m\u001b[43m(\u001b[49m\u001b[43m)\u001b[49m\n\u001b[0;32m     29\u001b[0m time\u001b[38;5;241m.\u001b[39msleep(\u001b[38;5;241m5\u001b[39m)\n\u001b[0;32m     30\u001b[0m soup \u001b[38;5;241m=\u001b[39m BeautifulSoup(driver\u001b[38;5;241m.\u001b[39mpage_source, \u001b[38;5;124m'\u001b[39m\u001b[38;5;124mlxml\u001b[39m\u001b[38;5;124m'\u001b[39m)\n",
      "File \u001b[1;32m~\\AppData\\Local\\Programs\\Python\\Python312\\Lib\\site-packages\\selenium\\webdriver\\remote\\webelement.py:94\u001b[0m, in \u001b[0;36mWebElement.click\u001b[1;34m(self)\u001b[0m\n\u001b[0;32m     92\u001b[0m \u001b[38;5;28;01mdef\u001b[39;00m \u001b[38;5;21mclick\u001b[39m(\u001b[38;5;28mself\u001b[39m) \u001b[38;5;241m-\u001b[39m\u001b[38;5;241m>\u001b[39m \u001b[38;5;28;01mNone\u001b[39;00m:\n\u001b[0;32m     93\u001b[0m \u001b[38;5;250m    \u001b[39m\u001b[38;5;124;03m\"\"\"Clicks the element.\"\"\"\u001b[39;00m\n\u001b[1;32m---> 94\u001b[0m     \u001b[38;5;28;43mself\u001b[39;49m\u001b[38;5;241;43m.\u001b[39;49m\u001b[43m_execute\u001b[49m\u001b[43m(\u001b[49m\u001b[43mCommand\u001b[49m\u001b[38;5;241;43m.\u001b[39;49m\u001b[43mCLICK_ELEMENT\u001b[49m\u001b[43m)\u001b[49m\n",
      "File \u001b[1;32m~\\AppData\\Local\\Programs\\Python\\Python312\\Lib\\site-packages\\selenium\\webdriver\\remote\\webelement.py:395\u001b[0m, in \u001b[0;36mWebElement._execute\u001b[1;34m(self, command, params)\u001b[0m\n\u001b[0;32m    393\u001b[0m     params \u001b[38;5;241m=\u001b[39m {}\n\u001b[0;32m    394\u001b[0m params[\u001b[38;5;124m\"\u001b[39m\u001b[38;5;124mid\u001b[39m\u001b[38;5;124m\"\u001b[39m] \u001b[38;5;241m=\u001b[39m \u001b[38;5;28mself\u001b[39m\u001b[38;5;241m.\u001b[39m_id\n\u001b[1;32m--> 395\u001b[0m \u001b[38;5;28;01mreturn\u001b[39;00m \u001b[38;5;28;43mself\u001b[39;49m\u001b[38;5;241;43m.\u001b[39;49m\u001b[43m_parent\u001b[49m\u001b[38;5;241;43m.\u001b[39;49m\u001b[43mexecute\u001b[49m\u001b[43m(\u001b[49m\u001b[43mcommand\u001b[49m\u001b[43m,\u001b[49m\u001b[43m \u001b[49m\u001b[43mparams\u001b[49m\u001b[43m)\u001b[49m\n",
      "File \u001b[1;32m~\\AppData\\Local\\Programs\\Python\\Python312\\Lib\\site-packages\\selenium\\webdriver\\remote\\webdriver.py:347\u001b[0m, in \u001b[0;36mWebDriver.execute\u001b[1;34m(self, driver_command, params)\u001b[0m\n\u001b[0;32m    345\u001b[0m response \u001b[38;5;241m=\u001b[39m \u001b[38;5;28mself\u001b[39m\u001b[38;5;241m.\u001b[39mcommand_executor\u001b[38;5;241m.\u001b[39mexecute(driver_command, params)\n\u001b[0;32m    346\u001b[0m \u001b[38;5;28;01mif\u001b[39;00m response:\n\u001b[1;32m--> 347\u001b[0m     \u001b[38;5;28;43mself\u001b[39;49m\u001b[38;5;241;43m.\u001b[39;49m\u001b[43merror_handler\u001b[49m\u001b[38;5;241;43m.\u001b[39;49m\u001b[43mcheck_response\u001b[49m\u001b[43m(\u001b[49m\u001b[43mresponse\u001b[49m\u001b[43m)\u001b[49m\n\u001b[0;32m    348\u001b[0m     response[\u001b[38;5;124m\"\u001b[39m\u001b[38;5;124mvalue\u001b[39m\u001b[38;5;124m\"\u001b[39m] \u001b[38;5;241m=\u001b[39m \u001b[38;5;28mself\u001b[39m\u001b[38;5;241m.\u001b[39m_unwrap_value(response\u001b[38;5;241m.\u001b[39mget(\u001b[38;5;124m\"\u001b[39m\u001b[38;5;124mvalue\u001b[39m\u001b[38;5;124m\"\u001b[39m, \u001b[38;5;28;01mNone\u001b[39;00m))\n\u001b[0;32m    349\u001b[0m     \u001b[38;5;28;01mreturn\u001b[39;00m response\n",
      "File \u001b[1;32m~\\AppData\\Local\\Programs\\Python\\Python312\\Lib\\site-packages\\selenium\\webdriver\\remote\\errorhandler.py:229\u001b[0m, in \u001b[0;36mErrorHandler.check_response\u001b[1;34m(self, response)\u001b[0m\n\u001b[0;32m    227\u001b[0m         alert_text \u001b[38;5;241m=\u001b[39m value[\u001b[38;5;124m\"\u001b[39m\u001b[38;5;124malert\u001b[39m\u001b[38;5;124m\"\u001b[39m]\u001b[38;5;241m.\u001b[39mget(\u001b[38;5;124m\"\u001b[39m\u001b[38;5;124mtext\u001b[39m\u001b[38;5;124m\"\u001b[39m)\n\u001b[0;32m    228\u001b[0m     \u001b[38;5;28;01mraise\u001b[39;00m exception_class(message, screen, stacktrace, alert_text)  \u001b[38;5;66;03m# type: ignore[call-arg]  # mypy is not smart enough here\u001b[39;00m\n\u001b[1;32m--> 229\u001b[0m \u001b[38;5;28;01mraise\u001b[39;00m exception_class(message, screen, stacktrace)\n",
      "\u001b[1;31mElementNotInteractableException\u001b[0m: Message: element not interactable\n  (Session info: chrome=122.0.6261.129)\nStacktrace:\n\tGetHandleVerifier [0x00007FF6911BAD02+56930]\n\t(No symbol) [0x00007FF69112F602]\n\t(No symbol) [0x00007FF690FE419D]\n\t(No symbol) [0x00007FF69102ACA2]\n\t(No symbol) [0x00007FF69101F798]\n\t(No symbol) [0x00007FF69104BC9A]\n\t(No symbol) [0x00007FF69101F09A]\n\t(No symbol) [0x00007FF69104BEB0]\n\t(No symbol) [0x00007FF6910681E2]\n\t(No symbol) [0x00007FF69104BA43]\n\t(No symbol) [0x00007FF69101D438]\n\t(No symbol) [0x00007FF69101E4D1]\n\tGetHandleVerifier [0x00007FF691536F8D+3711213]\n\tGetHandleVerifier [0x00007FF6915904CD+4077101]\n\tGetHandleVerifier [0x00007FF69158865F+4044735]\n\tGetHandleVerifier [0x00007FF691259736+706710]\n\t(No symbol) [0x00007FF69113B8DF]\n\t(No symbol) [0x00007FF691136AC4]\n\t(No symbol) [0x00007FF691136C1C]\n\t(No symbol) [0x00007FF6911268D4]\n\tBaseThreadInitThunk [0x00007FF9CA4A7034+20]\n\tRtlUserThreadStart [0x00007FF9CBAC2651+33]\n"
     ]
    }
   ],
   "source": [
    "from selenium import webdriver\n",
    "from selenium.webdriver.common.action_chains import ActionChains\n",
    "from webdriver_manager.chrome import ChromeDriverManager\n",
    "from selenium.webdriver.common.keys import Keys\n",
    "from selenium.webdriver.common.by import By\n",
    "\n",
    "from bs4 import BeautifulSoup\n",
    "import lxml \n",
    "import csv\n",
    "import time\n",
    "import pandas as pd\n",
    "\n",
    "\n",
    "options = webdriver.ChromeOptions()\n",
    "options.add_argument('user-agent=Mozilla/5.0 (Windows NT 10.0; Win64; x64) AppleWebKit/537.36 (KHTML, like Gecko) Chrome/99.0.4844.74 Safari/537.36' ) \n",
    "options.add_argument(\"--disable-blink-features=AutomationControlled\")\n",
    "\n",
    "driver = webdriver.Chrome(  options=options)\n",
    " \n",
    " \n",
    "driver.get(\"https://www.nseindia.com\")\n",
    "\n",
    "market_data =  driver.find_element(By.ID,\"link_2\")\n",
    "ActionChains(driver).move_to_element(market_data).perform()\n",
    "\n",
    "pre_open_market = driver.find_element(By.XPATH,'//*[@id=\"main_navbar\"]/ul/li[3]/div/div[1]/div/div[1]/ul/li[1]/a')\n",
    "pre_open_market.click()\n",
    "\n",
    "time.sleep(5)\n",
    "soup = BeautifulSoup(driver.page_source, 'lxml')\n",
    "data = [] \n",
    " \n",
    "final_prices = soup.find(\"tbody\" ).findAll('tr') \n",
    "for  each in final_prices:\n",
    "    name = each.findAll('td')[1].text\n",
    "    price = each.findAll('td')[6].text\n",
    "    item = [name,price]\n",
    "    data.append(item)\n",
    "    \n",
    "column_names = ['name', 'price']\n",
    "df = pd.DataFrame(data,columns=column_names)\n",
    "\n",
    "    \n",
    "     \n",
    " \n",
    "seconds = time.time()\n",
    "local_time = str(time.ctime(seconds)).replace(\":\", \"-\")  # Replacing ':' with '-' for valid filename\n",
    "df.to_excel('nseindia ' + local_time+'.xlsx')\n",
    "\n",
    "\n",
    "\n",
    "\n",
    "driver.quit()\n",
    "\n",
    " "
   ]
  },
  {
   "cell_type": "code",
   "execution_count": 64,
   "id": "3d2e2079-8ab5-4833-b513-1d6ebf4eb4c6",
   "metadata": {},
   "outputs": [
    {
     "data": {
      "text/plain": [
       "<bound method WebElement.click of <selenium.webdriver.remote.webelement.WebElement (session=\"fe1b7d24f77e287b7837f72646021af3\", element=\"f.2C0E7F91C7B31E486E3F8A4BC0330202.d.E4EA37313B2D5AE68F029D75C7A772D2.e.28771\")>>"
      ]
     },
     "execution_count": 64,
     "metadata": {},
     "output_type": "execute_result"
    }
   ],
   "source": [
    "driver.get(\"https://www.nseindia.com\")\n",
    "niftyBank =  driver.find_element('id',\"NIFTY BANK\")\n",
    "niftyBank.click()\n",
    "time.sleep(1)\n",
    "element = driver.find_element(By.TAG_NAME, \"body\")\n",
    "\n",
    "element.send_keys( Keys.PAGE_DOWN)\n",
    "time.sleep(1)\n",
    "viewAll =  driver.find_element(By.LINK_TEXT,\"View All\")\n",
    "viewAll.click()\n",
    "time.sleep(2)\n",
    "selector = driver.find_element(By.ID,'equitieStockSelect')\n",
    "selector.click()\n",
    "time.sleep(2)\n",
    "selector.send_keys(Keys.CONTROL + Keys.END)\n",
    "time.sleep(2)\n",
    "alpha50 = driver.find_element(By.XPATH,'/html/body/div[11]/div/section/div/div/div/div/div[1]/div/div/div/div[1]/div[1]/div/select/optgroup[4]/option[7]')\n",
    "alpha50.click"
   ]
  },
  {
   "cell_type": "code",
   "execution_count": 63,
   "id": "9c9d5b45-bbb0-4e78-94fa-365671ebdca5",
   "metadata": {},
   "outputs": [],
   "source": [
    "selector = driver.find_element(By.ID,'equitieStockSelect')\n",
    "selector.click()\n",
    "time.sleep(2)\n",
    "selector.send_keys(Keys.CONTROL + Keys.END)\n",
    "time.sleep(2)\n",
    "alpha50 = driver.find_element(By.XPATH,'/html/body/div[11]/div/section/div/div/div/div/div[1]/div/div/div/div[1]/div[1]/div/select/optgroup[4]/option[7]')\n",
    "alpha50.click()"
   ]
  },
  {
   "cell_type": "code",
   "execution_count": null,
   "id": "d7a845ec-6f06-4f09-90df-77d9d7aedf56",
   "metadata": {},
   "outputs": [],
   "source": []
  }
 ],
 "metadata": {
  "kernelspec": {
   "display_name": "Python 3 (ipykernel)",
   "language": "python",
   "name": "python3"
  },
  "language_info": {
   "codemirror_mode": {
    "name": "ipython",
    "version": 3
   },
   "file_extension": ".py",
   "mimetype": "text/x-python",
   "name": "python",
   "nbconvert_exporter": "python",
   "pygments_lexer": "ipython3",
   "version": "3.12.1"
  }
 },
 "nbformat": 4,
 "nbformat_minor": 5
}
