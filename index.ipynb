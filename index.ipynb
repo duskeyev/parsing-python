{
 "cells": [
  {
   "cell_type": "code",
   "execution_count": 185,
   "id": "48e85202-89fd-4456-b54b-42a89ce7da29",
   "metadata": {},
   "outputs": [
    {
     "ename": "ElementClickInterceptedException",
     "evalue": "Message: element click intercepted: Element <select aria-labelledby=\"liveMrktStockSelLbl\" id=\"equitieStockSelect\" class=\"no-border-radius\">...</select> is not clickable at point (206, 303). Other element would receive the click: <a class=\"nav-link\" href=\"/regulations/exchange-disclosures-nsccl-iosco-core-sgf-default-waterfall\" target=\"\">...</a>\n  (Session info: chrome=122.0.6261.129)\nStacktrace:\n\tGetHandleVerifier [0x00007FF6C5FEAD02+56930]\n\t(No symbol) [0x00007FF6C5F5F602]\n\t(No symbol) [0x00007FF6C5E142E5]\n\t(No symbol) [0x00007FF6C5E60A80]\n\t(No symbol) [0x00007FF6C5E5E8AB]\n\t(No symbol) [0x00007FF6C5E5C0B4]\n\t(No symbol) [0x00007FF6C5E5AE45]\n\t(No symbol) [0x00007FF6C5E4F798]\n\t(No symbol) [0x00007FF6C5E7BC9A]\n\t(No symbol) [0x00007FF6C5E4F09A]\n\t(No symbol) [0x00007FF6C5E7BEB0]\n\t(No symbol) [0x00007FF6C5E981E2]\n\t(No symbol) [0x00007FF6C5E7BA43]\n\t(No symbol) [0x00007FF6C5E4D438]\n\t(No symbol) [0x00007FF6C5E4E4D1]\n\tGetHandleVerifier [0x00007FF6C6366F8D+3711213]\n\tGetHandleVerifier [0x00007FF6C63C04CD+4077101]\n\tGetHandleVerifier [0x00007FF6C63B865F+4044735]\n\tGetHandleVerifier [0x00007FF6C6089736+706710]\n\t(No symbol) [0x00007FF6C5F6B8DF]\n\t(No symbol) [0x00007FF6C5F66AC4]\n\t(No symbol) [0x00007FF6C5F66C1C]\n\t(No symbol) [0x00007FF6C5F568D4]\n\tBaseThreadInitThunk [0x00007FFCB03B7034+20]\n\tRtlUserThreadStart [0x00007FFCB0502651+33]\n",
     "output_type": "error",
     "traceback": [
      "\u001b[1;31m---------------------------------------------------------------------------\u001b[0m",
      "\u001b[1;31mElementClickInterceptedException\u001b[0m          Traceback (most recent call last)",
      "Cell \u001b[1;32mIn[185], line 63\u001b[0m\n\u001b[0;32m     61\u001b[0m time\u001b[38;5;241m.\u001b[39msleep(\u001b[38;5;241m2\u001b[39m)\n\u001b[0;32m     62\u001b[0m selector \u001b[38;5;241m=\u001b[39m driver\u001b[38;5;241m.\u001b[39mfind_element(By\u001b[38;5;241m.\u001b[39mID,\u001b[38;5;124m'\u001b[39m\u001b[38;5;124mequitieStockSelect\u001b[39m\u001b[38;5;124m'\u001b[39m)\n\u001b[1;32m---> 63\u001b[0m \u001b[43mselector\u001b[49m\u001b[38;5;241;43m.\u001b[39;49m\u001b[43mclick\u001b[49m\u001b[43m(\u001b[49m\u001b[43m)\u001b[49m\n\u001b[0;32m     64\u001b[0m time\u001b[38;5;241m.\u001b[39msleep(\u001b[38;5;241m2\u001b[39m)\n\u001b[0;32m     65\u001b[0m selector\u001b[38;5;241m.\u001b[39msend_keys(Keys\u001b[38;5;241m.\u001b[39mCONTROL \u001b[38;5;241m+\u001b[39m Keys\u001b[38;5;241m.\u001b[39mEND)\n",
      "File \u001b[1;32m~\\AppData\\Local\\Programs\\Python\\Python312\\Lib\\site-packages\\selenium\\webdriver\\remote\\webelement.py:94\u001b[0m, in \u001b[0;36mWebElement.click\u001b[1;34m(self)\u001b[0m\n\u001b[0;32m     92\u001b[0m \u001b[38;5;28;01mdef\u001b[39;00m \u001b[38;5;21mclick\u001b[39m(\u001b[38;5;28mself\u001b[39m) \u001b[38;5;241m-\u001b[39m\u001b[38;5;241m>\u001b[39m \u001b[38;5;28;01mNone\u001b[39;00m:\n\u001b[0;32m     93\u001b[0m \u001b[38;5;250m    \u001b[39m\u001b[38;5;124;03m\"\"\"Clicks the element.\"\"\"\u001b[39;00m\n\u001b[1;32m---> 94\u001b[0m     \u001b[38;5;28;43mself\u001b[39;49m\u001b[38;5;241;43m.\u001b[39;49m\u001b[43m_execute\u001b[49m\u001b[43m(\u001b[49m\u001b[43mCommand\u001b[49m\u001b[38;5;241;43m.\u001b[39;49m\u001b[43mCLICK_ELEMENT\u001b[49m\u001b[43m)\u001b[49m\n",
      "File \u001b[1;32m~\\AppData\\Local\\Programs\\Python\\Python312\\Lib\\site-packages\\selenium\\webdriver\\remote\\webelement.py:395\u001b[0m, in \u001b[0;36mWebElement._execute\u001b[1;34m(self, command, params)\u001b[0m\n\u001b[0;32m    393\u001b[0m     params \u001b[38;5;241m=\u001b[39m {}\n\u001b[0;32m    394\u001b[0m params[\u001b[38;5;124m\"\u001b[39m\u001b[38;5;124mid\u001b[39m\u001b[38;5;124m\"\u001b[39m] \u001b[38;5;241m=\u001b[39m \u001b[38;5;28mself\u001b[39m\u001b[38;5;241m.\u001b[39m_id\n\u001b[1;32m--> 395\u001b[0m \u001b[38;5;28;01mreturn\u001b[39;00m \u001b[38;5;28;43mself\u001b[39;49m\u001b[38;5;241;43m.\u001b[39;49m\u001b[43m_parent\u001b[49m\u001b[38;5;241;43m.\u001b[39;49m\u001b[43mexecute\u001b[49m\u001b[43m(\u001b[49m\u001b[43mcommand\u001b[49m\u001b[43m,\u001b[49m\u001b[43m \u001b[49m\u001b[43mparams\u001b[49m\u001b[43m)\u001b[49m\n",
      "File \u001b[1;32m~\\AppData\\Local\\Programs\\Python\\Python312\\Lib\\site-packages\\selenium\\webdriver\\remote\\webdriver.py:347\u001b[0m, in \u001b[0;36mWebDriver.execute\u001b[1;34m(self, driver_command, params)\u001b[0m\n\u001b[0;32m    345\u001b[0m response \u001b[38;5;241m=\u001b[39m \u001b[38;5;28mself\u001b[39m\u001b[38;5;241m.\u001b[39mcommand_executor\u001b[38;5;241m.\u001b[39mexecute(driver_command, params)\n\u001b[0;32m    346\u001b[0m \u001b[38;5;28;01mif\u001b[39;00m response:\n\u001b[1;32m--> 347\u001b[0m     \u001b[38;5;28;43mself\u001b[39;49m\u001b[38;5;241;43m.\u001b[39;49m\u001b[43merror_handler\u001b[49m\u001b[38;5;241;43m.\u001b[39;49m\u001b[43mcheck_response\u001b[49m\u001b[43m(\u001b[49m\u001b[43mresponse\u001b[49m\u001b[43m)\u001b[49m\n\u001b[0;32m    348\u001b[0m     response[\u001b[38;5;124m\"\u001b[39m\u001b[38;5;124mvalue\u001b[39m\u001b[38;5;124m\"\u001b[39m] \u001b[38;5;241m=\u001b[39m \u001b[38;5;28mself\u001b[39m\u001b[38;5;241m.\u001b[39m_unwrap_value(response\u001b[38;5;241m.\u001b[39mget(\u001b[38;5;124m\"\u001b[39m\u001b[38;5;124mvalue\u001b[39m\u001b[38;5;124m\"\u001b[39m, \u001b[38;5;28;01mNone\u001b[39;00m))\n\u001b[0;32m    349\u001b[0m     \u001b[38;5;28;01mreturn\u001b[39;00m response\n",
      "File \u001b[1;32m~\\AppData\\Local\\Programs\\Python\\Python312\\Lib\\site-packages\\selenium\\webdriver\\remote\\errorhandler.py:229\u001b[0m, in \u001b[0;36mErrorHandler.check_response\u001b[1;34m(self, response)\u001b[0m\n\u001b[0;32m    227\u001b[0m         alert_text \u001b[38;5;241m=\u001b[39m value[\u001b[38;5;124m\"\u001b[39m\u001b[38;5;124malert\u001b[39m\u001b[38;5;124m\"\u001b[39m]\u001b[38;5;241m.\u001b[39mget(\u001b[38;5;124m\"\u001b[39m\u001b[38;5;124mtext\u001b[39m\u001b[38;5;124m\"\u001b[39m)\n\u001b[0;32m    228\u001b[0m     \u001b[38;5;28;01mraise\u001b[39;00m exception_class(message, screen, stacktrace, alert_text)  \u001b[38;5;66;03m# type: ignore[call-arg]  # mypy is not smart enough here\u001b[39;00m\n\u001b[1;32m--> 229\u001b[0m \u001b[38;5;28;01mraise\u001b[39;00m exception_class(message, screen, stacktrace)\n",
      "\u001b[1;31mElementClickInterceptedException\u001b[0m: Message: element click intercepted: Element <select aria-labelledby=\"liveMrktStockSelLbl\" id=\"equitieStockSelect\" class=\"no-border-radius\">...</select> is not clickable at point (206, 303). Other element would receive the click: <a class=\"nav-link\" href=\"/regulations/exchange-disclosures-nsccl-iosco-core-sgf-default-waterfall\" target=\"\">...</a>\n  (Session info: chrome=122.0.6261.129)\nStacktrace:\n\tGetHandleVerifier [0x00007FF6C5FEAD02+56930]\n\t(No symbol) [0x00007FF6C5F5F602]\n\t(No symbol) [0x00007FF6C5E142E5]\n\t(No symbol) [0x00007FF6C5E60A80]\n\t(No symbol) [0x00007FF6C5E5E8AB]\n\t(No symbol) [0x00007FF6C5E5C0B4]\n\t(No symbol) [0x00007FF6C5E5AE45]\n\t(No symbol) [0x00007FF6C5E4F798]\n\t(No symbol) [0x00007FF6C5E7BC9A]\n\t(No symbol) [0x00007FF6C5E4F09A]\n\t(No symbol) [0x00007FF6C5E7BEB0]\n\t(No symbol) [0x00007FF6C5E981E2]\n\t(No symbol) [0x00007FF6C5E7BA43]\n\t(No symbol) [0x00007FF6C5E4D438]\n\t(No symbol) [0x00007FF6C5E4E4D1]\n\tGetHandleVerifier [0x00007FF6C6366F8D+3711213]\n\tGetHandleVerifier [0x00007FF6C63C04CD+4077101]\n\tGetHandleVerifier [0x00007FF6C63B865F+4044735]\n\tGetHandleVerifier [0x00007FF6C6089736+706710]\n\t(No symbol) [0x00007FF6C5F6B8DF]\n\t(No symbol) [0x00007FF6C5F66AC4]\n\t(No symbol) [0x00007FF6C5F66C1C]\n\t(No symbol) [0x00007FF6C5F568D4]\n\tBaseThreadInitThunk [0x00007FFCB03B7034+20]\n\tRtlUserThreadStart [0x00007FFCB0502651+33]\n"
     ]
    }
   ],
   "source": [
    "from selenium import webdriver\n",
    "from selenium.webdriver.common.action_chains import ActionChains\n",
    "from webdriver_manager.chrome import ChromeDriverManager\n",
    "from selenium.webdriver.common.keys import Keys\n",
    "from selenium.webdriver.common.by import By\n",
    "\n",
    "from bs4 import BeautifulSoup\n",
    "import lxml \n",
    "import csv\n",
    "import time\n",
    "import pandas as pd\n",
    "\n",
    "\n",
    "options = webdriver.ChromeOptions()\n",
    "options.add_argument('user-agent=Mozilla/5.0 (Windows NT 10.0; Win64; x64) AppleWebKit/537.36 (KHTML, like Gecko) Chrome/99.0.4844.74 Safari/537.36' ) \n",
    "options.add_argument(\"--disable-blink-features=AutomationControlled\")\n",
    "\n",
    "driver = webdriver.Chrome(  options=options)\n",
    " \n",
    " \n",
    "driver.get(\"https://www.nseindia.com\")\n",
    "\n",
    "market_data =  driver.find_element(By.ID,\"link_2\")\n",
    "ActionChains(driver).move_to_element(market_data).perform()\n",
    "\n",
    "pre_open_market = driver.find_element(By.XPATH,'//*[@id=\"main_navbar\"]/ul/li[3]/div/div[1]/div/div[1]/ul/li[1]/a')\n",
    "pre_open_market.click()\n",
    "\n",
    "time.sleep(5)\n",
    "soup = BeautifulSoup(driver.page_source, 'lxml')\n",
    "data = [] \n",
    " \n",
    "final_prices = soup.find(\"tbody\" ).findAll('tr') \n",
    "for  each in final_prices:\n",
    "    name = each.findAll('td')[1].text\n",
    "    price = each.findAll('td')[6].text\n",
    "    item = [name,price]\n",
    "    data.append(item)\n",
    "    \n",
    "column_names = ['name', 'price']\n",
    "df = pd.DataFrame(data,columns=column_names)\n",
    "\n",
    "    \n",
    "     \n",
    " \n",
    "seconds = time.time()\n",
    "local_time = str(time.ctime(seconds)).replace(\":\", \"-\")  # Replacing ':' with '-' for valid filename\n",
    "df.to_excel('nseindia ' + local_time+'.xlsx')\n",
    "\n",
    "\n",
    "driver.get(\"https://www.nseindia.com\")\n",
    "niftyBank =  driver.find_element('id',\"NIFTY BANK\")\n",
    "niftyBank.click()\n",
    "time.sleep(1)\n",
    "element = driver.find_element(By.TAG_NAME, \"body\")\n",
    "\n",
    "element.send_keys( Keys.PAGE_DOWN)\n",
    "time.sleep(1)\n",
    "viewAll =  driver.find_element(By.LINK_TEXT,\"View All\")\n",
    "viewAll.click()\n",
    "time.sleep(2)\n",
    "selector = driver.find_element(By.ID,'equitieStockSelect')\n",
    "selector.click()\n",
    "time.sleep(2)\n",
    "selector.send_keys(Keys.CONTROL + Keys.END)\n",
    "time.sleep(2)\n",
    "selector = driver.find_element(By.ID,'equitieStockSelect')\n",
    "selector.click()\n",
    "alpha50 = driver.find_element(By.XPATH,'//*[contains(text(), \"NIFTY ALPHA 50\")]')\n",
    "alpha50.click()\n",
    "\n",
    "driver.quit()\n",
    "\n",
    " "
   ]
  },
  {
   "cell_type": "code",
   "execution_count": 112,
   "id": "3d2e2079-8ab5-4833-b513-1d6ebf4eb4c6",
   "metadata": {},
   "outputs": [],
   "source": [
    "driver.get(\"https://www.nseindia.com\")\n",
    "niftyBank =  driver.find_element('id',\"NIFTY BANK\")\n",
    "niftyBank.click()\n",
    "time.sleep(1)\n",
    "element = driver.find_element(By.TAG_NAME, \"body\")\n",
    "\n",
    "element.send_keys( Keys.PAGE_DOWN)\n",
    "time.sleep(1)\n",
    "viewAll =  driver.find_element(By.LINK_TEXT,\"View All\")\n",
    "viewAll.click()\n",
    "time.sleep(2)\n",
    "selector = driver.find_element(By.ID,'equitieStockSelect')\n",
    "selector.click()\n",
    "time.sleep(2)\n",
    "selector.send_keys(Keys.CONTROL + Keys.END)\n",
    "time.sleep(2)\n",
    "selector = driver.find_element(By.ID,'equitieStockSelect')\n",
    "selector.click()\n",
    "alpha50 = driver.find_element(By.XPATH,'//*[contains(text(), \"NIFTY ALPHA 50\")]')\n",
    "alpha50.click()"
   ]
  },
  {
   "cell_type": "code",
   "execution_count": 110,
   "id": "9c9d5b45-bbb0-4e78-94fa-365671ebdca5",
   "metadata": {},
   "outputs": [],
   "source": [
    "alpha50 = driver.find_element(By.XPATH,'//*[contains(text(), \"NIFTY ALPHA 50\")]')\n",
    "alpha50.click()"
   ]
  },
  {
   "cell_type": "code",
   "execution_count": 220,
   "id": "d7a845ec-6f06-4f09-90df-77d9d7aedf56",
   "metadata": {},
   "outputs": [
    {
     "name": "stdout",
     "output_type": "stream",
     "text": [
      "To the stars\n",
      "Next I’m buying Coca-Cola to put the cocaine back in\n",
      "I hope that even my worst critics remain on Twitter, because that is what free speech means\n",
      "Let’s make Twitter maximum fun!\n",
      " Yesss!!! \n",
      "Listen, I can’t do miracles ok\n",
      "the bird is freed\n",
      "Comedy is now legal on Twitter\n",
      "65 тыс.\n",
      "If I die under mysterious circumstances, it’s been nice knowin ya\n",
      "69 тыс.\n"
     ]
    }
   ],
   "source": [
    " soup = BeautifulSoup(driver.page_source, 'lxml')\n",
    "tweets = soup.find('div', attrs={'aria-label': 'Лента: Посты Elon Musk'}).find_all('article')\n",
    "for each in tweets:\n",
    "    tweet = each.find('div', class_= 'css-175oi2r r-1iusvr4 r-16y2uox r-1777fci r-kzbkwu' ).findAll('span',class_= 'css-1qaijid r-bcqeeo r-qvutc0 r-poiln3')[3].text \n",
    "    print(tweet)"
   ]
  },
  {
   "cell_type": "code",
   "execution_count": null,
   "id": "519ba394-b12c-4e4b-beac-0198bd4b7dd8",
   "metadata": {},
   "outputs": [],
   "source": []
  },
  {
   "cell_type": "code",
   "execution_count": 218,
   "id": "b4605b94-61cc-4efb-b2da-ee6c3ab372a0",
   "metadata": {},
   "outputs": [
    {
     "data": {
      "text/plain": [
       "[<span class=\"css-1qaijid r-bcqeeo r-qvutc0 r-poiln3\" style=\"text-overflow: unset;\">Elon Musk</span>,\n",
       " <span class=\"css-1qaijid r-bcqeeo r-qvutc0 r-poiln3\" style=\"text-overflow: unset;\">@elonmusk</span>,\n",
       " <span class=\"css-1qaijid r-bcqeeo r-qvutc0 r-poiln3\" style=\"text-overflow: unset;\">·</span>,\n",
       " <span class=\"css-1qaijid r-bcqeeo r-qvutc0 r-poiln3\" style=\"text-overflow: unset;\">To the stars</span>,\n",
       " <span class=\"css-1qaijid r-bcqeeo r-qvutc0 r-poiln3\" style=\"text-overflow: unset;\">11 тыс.</span>,\n",
       " <span class=\"css-1qaijid r-bcqeeo r-qvutc0 r-poiln3\" style=\"text-overflow: unset;\">20 тыс.</span>,\n",
       " <span class=\"css-1qaijid r-bcqeeo r-qvutc0 r-poiln3\" style=\"text-overflow: unset;\">281 тыс.</span>,\n",
       " <span class=\"css-1qaijid r-bcqeeo r-qvutc0 r-poiln3\" style=\"text-overflow: unset;\">48 млн</span>]"
      ]
     },
     "execution_count": 218,
     "metadata": {},
     "output_type": "execute_result"
    }
   ],
   "source": [
    "soup = BeautifulSoup(driver.page_source, 'lxml')\n",
    "tweets = soup.find('div', attrs={'aria-label': 'Лента: Посты Elon Musk'}).findAll('article')[0].find('div', class_= 'css-175oi2r r-1iusvr4 r-16y2uox r-1777fci r-kzbkwu' ).findAll('span',class_= 'css-1qaijid r-bcqeeo r-qvutc0 r-poiln3') \n",
    "tweets\n"
   ]
  }
 ],
 "metadata": {
  "kernelspec": {
   "display_name": "Python 3 (ipykernel)",
   "language": "python",
   "name": "python3"
  },
  "language_info": {
   "codemirror_mode": {
    "name": "ipython",
    "version": 3
   },
   "file_extension": ".py",
   "mimetype": "text/x-python",
   "name": "python",
   "nbconvert_exporter": "python",
   "pygments_lexer": "ipython3",
   "version": "3.12.1"
  }
 },
 "nbformat": 4,
 "nbformat_minor": 5
}
